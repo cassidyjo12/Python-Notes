{
 "cells": [
  {
   "cell_type": "code",
   "execution_count": 10,
   "metadata": {},
   "outputs": [],
   "source": [
    "def file_demo(search_char):\n",
    "    \"\"\"Demonstrates opening, reading from, and writing to files\n",
    "\n",
    "    :param search_char: character to search for in each word\n",
    "    :return: None (writes all words ending in search_char to file)\n",
    "    \"\"\"\n",
    "\n",
    "    # using \"with\" is the cleanest way to open a file\n",
    "    # the file will automatically be closed when you exit this context\n",
    "    with open('words.txt', 'r') as read_file: # 'r' keyword indicates read-only\n",
    "\n",
    "        with open('output.txt', 'w') as write_file: # 'w' keyword indicates writing\n",
    "\n",
    "            for line in read_file: # loops over each line in the file\n",
    "\n",
    "                # Strip off all whitespace (in this case, the newline character)\n",
    "                line = line.strip()\n",
    "\n",
    "                # If line ends with search_char, then print to file\n",
    "                # Manually reattach the newline character so we get one string per line\n",
    "                if line[-1] == search_char:\n",
    "                    write_file.write(line + '\\n')"
   ]
  },
  {
   "cell_type": "code",
   "execution_count": 11,
   "metadata": {},
   "outputs": [],
   "source": [
    "file_demo('x')"
   ]
  },
  {
   "cell_type": "code",
   "execution_count": null,
   "metadata": {},
   "outputs": [],
   "source": []
  }
 ],
 "metadata": {
  "kernelspec": {
   "display_name": "Python 3",
   "language": "python",
   "name": "python3"
  },
  "language_info": {
   "codemirror_mode": {
    "name": "ipython",
    "version": 3
   },
   "file_extension": ".py",
   "mimetype": "text/x-python",
   "name": "python",
   "nbconvert_exporter": "python",
   "pygments_lexer": "ipython3",
   "version": "3.10.13"
  }
 },
 "nbformat": 4,
 "nbformat_minor": 2
}
