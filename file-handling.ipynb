{
 "cells": [
  {
   "cell_type": "code",
   "execution_count": 7,
   "metadata": {},
   "outputs": [],
   "source": [
    "def file_demo(search_char):\n",
    "    \"\"\"Demonstrates opening, reading from, and writing to files\n",
    "\n",
    "    :param search_char: character to search for in each word\n",
    "    :return: None (writes all words ending in search_char to file)\n",
    "    \"\"\"\n",
    "\n",
    "    # using \"with\" is the cleanest way to open a file\n",
    "    # the file will automatically be closed when you exit this context\n",
    "    with open('words.txt', 'r') as read_file: # 'r' keyword indicates read-only\n",
    "\n",
    "        with open('output.txt', 'w') as write_file: # 'w' keyword indicates writing\n",
    "\n",
    "            for line in read_file: # loops over each line in the file\n",
    "\n",
    "                # Strip off all whitespace (in this case, the newline character)\n",
    "                line = line.strip()\n",
    "\n",
    "                # If line ends with search_char, then print to file\n",
    "                # Manually reattach the newline character so we get one string per line\n",
    "                if line[-1] == search_char:\n",
    "                    write_file.write(line + '\\n')"
   ]
  },
  {
   "cell_type": "code",
   "execution_count": 3,
   "metadata": {},
   "outputs": [],
   "source": [
    "file_demo('x')"
   ]
  },
  {
   "cell_type": "code",
   "execution_count": 17,
   "metadata": {},
   "outputs": [],
   "source": [
    "def anagrams(input_string):\n",
    "    anagramsFrequency = {}\n",
    "    with open('words.txt', 'r') as words:\n",
    "        with open('anagrams_output.txt', 'w') as output_file:\n",
    "            for line in words:\n",
    "                for items in input_string:\n",
    "                    for item in items:\n",
    "                        if item in anagramsFrequency:\n",
    "                            anagramsFrequency [item] += 1\n",
    "                        else:\n",
    "                            anagramsFrequency [item] = 1\n",
    "                return anagramsFrequency\n",
    "            if anagramsFrequency \n",
    "                "
   ]
  },
  {
   "cell_type": "code",
   "execution_count": 19,
   "metadata": {},
   "outputs": [],
   "source": [
    "def histogram(string_list):\n",
    "    frequency = {}\n",
    "    for item in string_list: \n",
    "        if item in frequency:\n",
    "            frequency [item] +=1 \n",
    "        else:\n",
    "            frequency [item] = 1\n",
    "    return frequency"
   ]
  },
  {
   "cell_type": "code",
   "execution_count": null,
   "metadata": {},
   "outputs": [],
   "source": [
    "def anagrams(input_string):\n",
    "    with open('words.txt', 'r') as words:\n"
   ]
  },
  {
   "cell_type": "code",
   "execution_count": null,
   "metadata": {},
   "outputs": [],
   "source": [
    "def anagrams(input_string):\n",
    "    anagramsFrequecny\n",
    "    with open('words.txt', 'r') as words:\n",
    "        "
   ]
  },
  {
   "cell_type": "code",
   "execution_count": null,
   "metadata": {},
   "outputs": [],
   "source": [
    "print(anagrams('pots'))\n",
    "print(anagrams('resent'))"
   ]
  },
  {
   "cell_type": "code",
   "execution_count": null,
   "metadata": {},
   "outputs": [],
   "source": [
    "def heteropalindromes():\n",
    "    with open('words.txt', 'r') as words"
   ]
  }
 ],
 "metadata": {
  "kernelspec": {
   "display_name": "Python 3",
   "language": "python",
   "name": "python3"
  },
  "language_info": {
   "codemirror_mode": {
    "name": "ipython",
    "version": 3
   },
   "file_extension": ".py",
   "mimetype": "text/x-python",
   "name": "python",
   "nbconvert_exporter": "python",
   "pygments_lexer": "ipython3",
   "version": "3.10.13"
  }
 },
 "nbformat": 4,
 "nbformat_minor": 2
}
