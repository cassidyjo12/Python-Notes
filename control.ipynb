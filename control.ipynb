{
 "cells": [
  {
   "cell_type": "code",
   "execution_count": 1,
   "metadata": {},
   "outputs": [],
   "source": [
    "def comparison_demo(num1, num2):\n",
    "    \"\"\"\n",
    "    :param num1: number\n",
    "    :param num2: number\n",
    "    :return: Prints a string stating whether num1 is greater than, equal to, or less than num2\n",
    "    \"\"\"\n",
    "    if num1 > num2:\n",
    "        print(num1, 'is greater than', num2)\n",
    "    elif num1 == num2:\n",
    "        print(num1, 'and', num2, 'are equal')\n",
    "    else:\n",
    "        print(num1, 'is less than', num2)"
   ]
  },
  {
   "cell_type": "code",
   "execution_count": 2,
   "metadata": {},
   "outputs": [
    {
     "name": "stdout",
     "output_type": "stream",
     "text": [
      "3 is less than 4\n",
      "3 and 3 are equal\n"
     ]
    }
   ],
   "source": [
    "comparison_demo(3, 4)\n",
    "comparison_demo(3, 3)"
   ]
  },
  {
   "cell_type": "code",
   "execution_count": 3,
   "metadata": {},
   "outputs": [],
   "source": [
    "def while_demo(input_int):\n",
    "    \"\"\"\n",
    "    :param num1: number\n",
    "    :return: print the first multiple of 10 that is greater than or equal to input_int\n",
    "    \"\"\"\n",
    "    multiple = input_int\n",
    "    while multiple % 10 != 0:\n",
    "        multiple = multiple + 1\n",
    "\n",
    "    return multiple"
   ]
  },
  {
   "cell_type": "code",
   "execution_count": 4,
   "metadata": {},
   "outputs": [
    {
     "name": "stdout",
     "output_type": "stream",
     "text": [
      "Smallest multiple of 10 at least as big as 10 10\n",
      "Smallest multiple of 10 at least as big as 11 20\n"
     ]
    }
   ],
   "source": [
    "print('Smallest multiple of 10 at least as big as 10', while_demo(10))\n",
    "print('Smallest multiple of 10 at least as big as 11', while_demo(11))"
   ]
  },
  {
   "cell_type": "code",
   "execution_count": 5,
   "metadata": {},
   "outputs": [],
   "source": [
    "def for_demo(input_int):\n",
    "    \"\"\"\n",
    "    :param input_int: integer\n",
    "    :return: sum of all integers from 1 to input_int, inclusive\n",
    "    \"\"\"\n",
    "    the_sum = 0\n",
    "    for current_int in range(1,input_int + 1):\n",
    "        the_sum = the_sum + current_int\n",
    "\n",
    "    return the_sum"
   ]
  },
  {
   "cell_type": "code",
   "execution_count": 6,
   "metadata": {},
   "outputs": [
    {
     "name": "stdout",
     "output_type": "stream",
     "text": [
      "Sum of integers from 1 to 4: 10\n",
      "Sum of integers from 1 to 4 : 10\n"
     ]
    }
   ],
   "source": [
    "end_int = 4\n",
    "print(f'Sum of integers from 1 to {end_int}: {for_demo(end_int)}')\n",
    "print('Sum of integers from 1 to', end_int, ':', for_demo(end_int))"
   ]
  },
  {
   "cell_type": "code",
   "execution_count": 7,
   "metadata": {},
   "outputs": [],
   "source": [
    "def is_prime(input_int):\n",
    "    \"\"\"\n",
    "    :param input_int: integer\n",
    "    :return: True if test_int is prime. False, otherwise.\n",
    "    \"\"\"\n",
    "    for test_divisor in range(2, input_int):\n",
    "        print(test_divisor)\n",
    "        if input_int % test_divisor == 0:\n",
    "            return False\n",
    "\n",
    "    return True"
   ]
  },
  {
   "cell_type": "code",
   "execution_count": 8,
   "metadata": {},
   "outputs": [
    {
     "name": "stdout",
     "output_type": "stream",
     "text": [
      "2\n",
      "10 is prime: False\n",
      "2\n",
      "3\n",
      "4\n",
      "5 is prime: True\n"
     ]
    }
   ],
   "source": [
    "print('10 is prime:', is_prime(10))\n",
    "print('5 is prime:', is_prime(5))"
   ]
  },
  {
   "cell_type": "code",
   "execution_count": 15,
   "metadata": {},
   "outputs": [],
   "source": [
    "def is_perfect(input_int):\n",
    "    sum = 0\n",
    "    for number in range(1,input_int):\n",
    "        if input_int%number ==0:\n",
    "            sum+=number\n",
    "\n",
    "    return sum == input_int"
   ]
  },
  {
   "cell_type": "code",
   "execution_count": 16,
   "metadata": {},
   "outputs": [
    {
     "name": "stdout",
     "output_type": "stream",
     "text": [
      "False\n",
      "True\n"
     ]
    }
   ],
   "source": [
    "print(is_perfect(100)) #return False\n",
    "print(is_perfect(496)) #return True"
   ]
  },
  {
   "cell_type": "code",
   "execution_count": 17,
   "metadata": {},
   "outputs": [],
   "source": [
    "def lcm(int1, int2):\n",
    "    if int1 > int2:\n",
    "        greater = int1\n",
    "    else:\n",
    "        greater = int2\n",
    "    while(True):\n",
    "        if((greater % int1 ==0) and (greater % int2 == 0)):\n",
    "            return greater\n",
    "            break\n",
    "        greater = greater+1"
   ]
  },
  {
   "cell_type": "code",
   "execution_count": 18,
   "metadata": {},
   "outputs": [
    {
     "name": "stdout",
     "output_type": "stream",
     "text": [
      "30\n",
      "30\n",
      "30\n"
     ]
    }
   ],
   "source": [
    "print(lcm(6,10))\n",
    "print(lcm(3,10))\n",
    "print(lcm(10,30))"
   ]
  }
 ],
 "metadata": {
  "kernelspec": {
   "display_name": "Python 3",
   "language": "python",
   "name": "python3"
  },
  "language_info": {
   "codemirror_mode": {
    "name": "ipython",
    "version": 3
   },
   "file_extension": ".py",
   "mimetype": "text/x-python",
   "name": "python",
   "nbconvert_exporter": "python",
   "pygments_lexer": "ipython3",
   "version": "3.10.13"
  }
 },
 "nbformat": 4,
 "nbformat_minor": 2
}
