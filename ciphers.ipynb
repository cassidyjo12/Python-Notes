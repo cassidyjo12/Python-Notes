{
 "cells": [
  {
   "cell_type": "code",
   "execution_count": 1,
   "metadata": {},
   "outputs": [],
   "source": [
    "def substitution_encrypt(plaintext_file, ciphertext_file, cipher_alphabet):\n",
    "    with open(plaintext_file, 'r') as plain:\n",
    "        plaintext = plain.read().upper() #make it all the same case to make it work\n",
    "\n",
    "    # encrypt\n",
    "    ciphertext = ''.join([cipher_alphabet[ord(char) - ord('A')] if 'A' <= char <= 'Z' else char for char in plaintext])\n",
    "\n",
    "    # write it in the output file\n",
    "    with open(ciphertext_file, 'w') as cipher:\n",
    "        cipher.write(ciphertext)\n"
   ]
  },
  {
   "cell_type": "code",
   "execution_count": 2,
   "metadata": {},
   "outputs": [],
   "source": [
    "def substitution_decrypt(ciphertext_file, plaintext_file, cipher_alphabet):\n",
    "    # read output file\n",
    "    with open(ciphertext_file, 'r') as cipher:\n",
    "        ciphertext = cipher.read().upper()  #make it all the same case to make it work\n",
    "\n",
    "    # decrypt\n",
    "    inverse = {cipher_alphabet[i]: chr(i + ord('A')) for i in range(26)}\n",
    "    plaintext = ''.join([inverse[char] if 'A' <= char <= 'Z' else char for char in ciphertext])\n",
    "\n",
    "    # write it in plain/input file\n",
    "    with open(plaintext_file, 'w') as plain:\n",
    "        plain.write(plaintext)"
   ]
  },
  {
   "cell_type": "code",
   "execution_count": 3,
   "metadata": {},
   "outputs": [
    {
     "ename": "FileNotFoundError",
     "evalue": "[Errno 2] No such file or directory: 'liquid.txt'",
     "output_type": "error",
     "traceback": [
      "\u001b[0;31m---------------------------------------------------------------------------\u001b[0m",
      "\u001b[0;31mFileNotFoundError\u001b[0m                         Traceback (most recent call last)",
      "Cell \u001b[0;32mIn[3], line 2\u001b[0m\n\u001b[1;32m      1\u001b[0m key \u001b[38;5;241m=\u001b[39m {\u001b[38;5;124m\"\u001b[39m\u001b[38;5;124mA\u001b[39m\u001b[38;5;124m\"\u001b[39m:\u001b[38;5;124m\"\u001b[39m\u001b[38;5;124mB\u001b[39m\u001b[38;5;124m\"\u001b[39m, \u001b[38;5;124m\"\u001b[39m\u001b[38;5;124mB\u001b[39m\u001b[38;5;124m\"\u001b[39m:\u001b[38;5;124m\"\u001b[39m\u001b[38;5;124mA\u001b[39m\u001b[38;5;124m\"\u001b[39m}\n\u001b[0;32m----> 2\u001b[0m \u001b[43msubstitution_encrypt\u001b[49m\u001b[43m(\u001b[49m\u001b[38;5;124;43m'\u001b[39;49m\u001b[38;5;124;43mliquid.txt\u001b[39;49m\u001b[38;5;124;43m'\u001b[39;49m\u001b[43m,\u001b[49m\u001b[43m \u001b[49m\u001b[38;5;124;43m'\u001b[39;49m\u001b[38;5;124;43msub_cipher.txt\u001b[39;49m\u001b[38;5;124;43m'\u001b[39;49m\u001b[43m,\u001b[49m\u001b[43m \u001b[49m\u001b[43mkey\u001b[49m\u001b[43m)\u001b[49m\n\u001b[1;32m      3\u001b[0m \u001b[38;5;66;03m#where \"key\" is replaced with the ciphertext alphabet that encrypts \"A\" to \"B\", \"B\" to \"A\", and leaves all other characters unchanged (however you choose to represent that)\u001b[39;00m\n",
      "Cell \u001b[0;32mIn[1], line 2\u001b[0m, in \u001b[0;36msubstitution_encrypt\u001b[0;34m(plaintext_file, ciphertext_file, cipher_alphabet)\u001b[0m\n\u001b[1;32m      1\u001b[0m \u001b[38;5;28;01mdef\u001b[39;00m \u001b[38;5;21msubstitution_encrypt\u001b[39m(plaintext_file, ciphertext_file, cipher_alphabet):\n\u001b[0;32m----> 2\u001b[0m     \u001b[38;5;28;01mwith\u001b[39;00m \u001b[38;5;28;43mopen\u001b[39;49m\u001b[43m(\u001b[49m\u001b[43mplaintext_file\u001b[49m\u001b[43m,\u001b[49m\u001b[43m \u001b[49m\u001b[38;5;124;43m'\u001b[39;49m\u001b[38;5;124;43mr\u001b[39;49m\u001b[38;5;124;43m'\u001b[39;49m\u001b[43m)\u001b[49m \u001b[38;5;28;01mas\u001b[39;00m plain:\n\u001b[1;32m      3\u001b[0m         plaintext \u001b[38;5;241m=\u001b[39m plain\u001b[38;5;241m.\u001b[39mread()\u001b[38;5;241m.\u001b[39mupper() \u001b[38;5;66;03m#make it all the same case to make it work\u001b[39;00m\n\u001b[1;32m      5\u001b[0m     \u001b[38;5;66;03m# encrypt\u001b[39;00m\n",
      "File \u001b[0;32m~/.local/lib/python3.10/site-packages/IPython/core/interactiveshell.py:310\u001b[0m, in \u001b[0;36m_modified_open\u001b[0;34m(file, *args, **kwargs)\u001b[0m\n\u001b[1;32m    303\u001b[0m \u001b[38;5;28;01mif\u001b[39;00m file \u001b[38;5;129;01min\u001b[39;00m {\u001b[38;5;241m0\u001b[39m, \u001b[38;5;241m1\u001b[39m, \u001b[38;5;241m2\u001b[39m}:\n\u001b[1;32m    304\u001b[0m     \u001b[38;5;28;01mraise\u001b[39;00m \u001b[38;5;167;01mValueError\u001b[39;00m(\n\u001b[1;32m    305\u001b[0m         \u001b[38;5;124mf\u001b[39m\u001b[38;5;124m\"\u001b[39m\u001b[38;5;124mIPython won\u001b[39m\u001b[38;5;124m'\u001b[39m\u001b[38;5;124mt let you open fd=\u001b[39m\u001b[38;5;132;01m{\u001b[39;00mfile\u001b[38;5;132;01m}\u001b[39;00m\u001b[38;5;124m by default \u001b[39m\u001b[38;5;124m\"\u001b[39m\n\u001b[1;32m    306\u001b[0m         \u001b[38;5;124m\"\u001b[39m\u001b[38;5;124mas it is likely to crash IPython. If you know what you are doing, \u001b[39m\u001b[38;5;124m\"\u001b[39m\n\u001b[1;32m    307\u001b[0m         \u001b[38;5;124m\"\u001b[39m\u001b[38;5;124myou can use builtins\u001b[39m\u001b[38;5;124m'\u001b[39m\u001b[38;5;124m open.\u001b[39m\u001b[38;5;124m\"\u001b[39m\n\u001b[1;32m    308\u001b[0m     )\n\u001b[0;32m--> 310\u001b[0m \u001b[38;5;28;01mreturn\u001b[39;00m \u001b[43mio_open\u001b[49m\u001b[43m(\u001b[49m\u001b[43mfile\u001b[49m\u001b[43m,\u001b[49m\u001b[43m \u001b[49m\u001b[38;5;241;43m*\u001b[39;49m\u001b[43margs\u001b[49m\u001b[43m,\u001b[49m\u001b[43m \u001b[49m\u001b[38;5;241;43m*\u001b[39;49m\u001b[38;5;241;43m*\u001b[39;49m\u001b[43mkwargs\u001b[49m\u001b[43m)\u001b[49m\n",
      "\u001b[0;31mFileNotFoundError\u001b[0m: [Errno 2] No such file or directory: 'liquid.txt'"
     ]
    }
   ],
   "source": [
    "key = {\"A\":\"B\", \"B\":\"A\"}\n",
    "substitution_encrypt('liquid.txt', 'sub_cipher.txt', key)\n",
    "#where \"key\" is replaced with the ciphertext alphabet that encrypts \"A\" to \"B\", \"B\" to \"A\", and leaves all other characters unchanged (however you choose to represent that)"
   ]
  },
  {
   "cell_type": "code",
   "execution_count": 14,
   "metadata": {},
   "outputs": [],
   "source": [
    "substitution_encrypt('plaintext.txt', 'ciphertext.txt', 'QWERTYUIOPASDFGHJKLZXCVBNM')"
   ]
  },
  {
   "cell_type": "code",
   "execution_count": 15,
   "metadata": {},
   "outputs": [],
   "source": [
    "substitution_decrypt('ciphertext.txt', 'decrypted.txt', 'QWERTYUIOPASDFGHJKLZXCVBNM')"
   ]
  },
  {
   "cell_type": "code",
   "execution_count": null,
   "metadata": {},
   "outputs": [],
   "source": [
    "    if len(cipher_alphabet) != 26 or len(set(cipher_alphabet)) != 26:\n",
    "        print(\"Invalid Alphabet\")\n",
    "        return\n",
    "    # open plaintext"
   ]
  }
 ],
 "metadata": {
  "kernelspec": {
   "display_name": "Python 3",
   "language": "python",
   "name": "python3"
  },
  "language_info": {
   "codemirror_mode": {
    "name": "ipython",
    "version": 3
   },
   "file_extension": ".py",
   "mimetype": "text/x-python",
   "name": "python",
   "nbconvert_exporter": "python",
   "pygments_lexer": "ipython3",
   "version": "3.10.13"
  }
 },
 "nbformat": 4,
 "nbformat_minor": 2
}
