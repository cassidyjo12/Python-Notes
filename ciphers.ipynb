{
 "cells": [
  {
   "cell_type": "code",
   "execution_count": null,
   "metadata": {},
   "outputs": [],
   "source": [
    "cipher_alphabet = {'a':'z', 'b':'y', 'c':'x', 'd':'w','e':'v','f':'u','g':'t','h':'s','i':'r','j':'q','k':'p','l':'o','m':'n'}\n",
    "\n",
    "def substitution_encrypt(plaintext_file, ciphertext_file, cipher_alphabet):"
   ]
  },
  {
   "cell_type": "code",
   "execution_count": null,
   "metadata": {},
   "outputs": [],
   "source": [
    "cipher_alphabet = {'a':'z', 'b':'y', 'c':'x', 'd':'w','e':'v','f':'u','g':'t','h':'s','i':'r','j':'q','k':'p','l':'o','m':'n'}\n",
    "\n",
    "def substitution_decrypt(ciphertext_file, plaintext_file, cipher_alphabet):"
   ]
  },
  {
   "cell_type": "code",
   "execution_count": 5,
   "metadata": {},
   "outputs": [
    {
     "data": {
      "text/plain": [
       "{'a': 'z',\n",
       " 'b': 'y',\n",
       " 'c': 'x',\n",
       " 'd': 'w',\n",
       " 'e': 'v',\n",
       " 'f': 'u',\n",
       " 'g': 't',\n",
       " 'h': 's',\n",
       " 'i': 'r',\n",
       " 'j': 'q',\n",
       " 'k': 'p',\n",
       " 'l': 'o',\n",
       " 'm': 'n'}"
      ]
     },
     "execution_count": 5,
     "metadata": {},
     "output_type": "execute_result"
    }
   ],
   "source": [
    "cipher_alphabet = {'a':'z', 'b':'y', 'c':'x', 'd':'w','e':'v','f':'u','g':'t','h':'s','i':'r','j':'q','k':'p','l':'o','m':'n'}\n",
    "cipher_alphabet"
   ]
  }
 ],
 "metadata": {
  "kernelspec": {
   "display_name": "Python 3",
   "language": "python",
   "name": "python3"
  },
  "language_info": {
   "codemirror_mode": {
    "name": "ipython",
    "version": 3
   },
   "file_extension": ".py",
   "mimetype": "text/x-python",
   "name": "python",
   "nbconvert_exporter": "python",
   "pygments_lexer": "ipython3",
   "version": "3.10.13"
  }
 },
 "nbformat": 4,
 "nbformat_minor": 2
}
