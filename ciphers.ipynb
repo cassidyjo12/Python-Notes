{
 "cells": [
  {
   "cell_type": "code",
   "execution_count": 16,
   "metadata": {},
   "outputs": [],
   "source": [
    "def substitution_encrypt(plaintext_file, ciphertext_file, cipher_alphabet):\n",
    "    if len(cipher_alphabet) != 26 or len(set(cipher_alphabet)) != 26:\n",
    "        print(\"Invalid Alphabet\")\n",
    "        return\n",
    "    # open plaintext\n",
    "    with open(plaintext_file, 'r') as plain:\n",
    "        plaintext = plain.read().upper() #make it all the same case to make it work\n",
    "\n",
    "    # encrypt\n",
    "    ciphertext = ''.join([cipher_alphabet[ord(char) - ord('A')] if 'A' <= char <= 'Z' else char for char in plaintext])\n",
    "\n",
    "    # write it in the output file\n",
    "    with open(ciphertext_file, 'w') as cipher:\n",
    "        cipher.write(ciphertext)\n"
   ]
  },
  {
   "cell_type": "code",
   "execution_count": 13,
   "metadata": {},
   "outputs": [],
   "source": [
    "def substitution_decrypt(ciphertext_file, plaintext_file, cipher_alphabet):\n",
    "    if len(cipher_alphabet) != 26 or len(set(cipher_alphabet)) != 26:\n",
    "        print(\"Invalid Alphabet\")\n",
    "        return\n",
    "\n",
    "    # read output file\n",
    "    with open(ciphertext_file, 'r') as cipher:\n",
    "        ciphertext = cipher.read().upper()  #make it all the same case to make it work\n",
    "\n",
    "    # decrypt\n",
    "    inverse = {cipher_alphabet[i]: chr(i + ord('A')) for i in range(26)}\n",
    "    plaintext = ''.join([inverse[char] if 'A' <= char <= 'Z' else char for char in ciphertext])\n",
    "\n",
    "    # write it in plain/input file\n",
    "    with open(plaintext_file, 'w') as plain:\n",
    "        plain.write(plaintext)"
   ]
  },
  {
   "cell_type": "code",
   "execution_count": 14,
   "metadata": {},
   "outputs": [],
   "source": [
    "substitution_encrypt('plaintext.txt', 'ciphertext.txt', 'QWERTYUIOPASDFGHJKLZXCVBNM')"
   ]
  },
  {
   "cell_type": "code",
   "execution_count": 15,
   "metadata": {},
   "outputs": [],
   "source": [
    "substitution_decrypt('ciphertext.txt', 'decrypted.txt', 'QWERTYUIOPASDFGHJKLZXCVBNM')"
   ]
  }
 ],
 "metadata": {
  "kernelspec": {
   "display_name": "Python 3",
   "language": "python",
   "name": "python3"
  },
  "language_info": {
   "codemirror_mode": {
    "name": "ipython",
    "version": 3
   },
   "file_extension": ".py",
   "mimetype": "text/x-python",
   "name": "python",
   "nbconvert_exporter": "python",
   "pygments_lexer": "ipython3",
   "version": "3.10.13"
  }
 },
 "nbformat": 4,
 "nbformat_minor": 2
}
